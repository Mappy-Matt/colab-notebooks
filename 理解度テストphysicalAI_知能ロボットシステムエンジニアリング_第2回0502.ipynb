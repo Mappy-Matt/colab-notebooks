{
  "cells": [
    {
      "cell_type": "markdown",
      "metadata": {
        "id": "view-in-github",
        "colab_type": "text"
      },
      "source": [
        "<a href=\"https://colab.research.google.com/github/Mappy-Matt/colab-notebooks/blob/main/%E7%90%86%E8%A7%A3%E5%BA%A6%E3%83%86%E3%82%B9%E3%83%88physicalAI_%E7%9F%A5%E8%83%BD%E3%83%AD%E3%83%9C%E3%83%83%E3%83%88%E3%82%B7%E3%82%B9%E3%83%86%E3%83%A0%E3%82%A8%E3%83%B3%E3%82%B8%E3%83%8B%E3%82%A2%E3%83%AA%E3%83%B3%E3%82%B0_%E7%AC%AC2%E5%9B%9E0502.ipynb\" target=\"_parent\"><img src=\"https://colab.research.google.com/assets/colab-badge.svg\" alt=\"Open In Colab\"/></a>"
      ]
    },
    {
      "cell_type": "markdown",
      "metadata": {
        "id": "zO6ihJbWB7H-"
      },
      "source": [
        "# 理解度テストphysicalAI_知能ロボットシステムエンジニアリング_第2回"
      ]
    },
    {
      "cell_type": "markdown",
      "metadata": {
        "id": "_peOQy2DCDIp"
      },
      "source": [
        "## 課題\n",
        "今回の課題は確認クイズです。\n",
        "\n",
        "上から回答していくとcsv提出用csv `submission_pred.csv`が作成されます。\n",
        "提出期限までにomnicampusに提出してください。\n",
        "\n",
        "**採点は締め切り後に一回だけ行われます。**\n",
        "（**即時採点ではありません。**）"
      ]
    },
    {
      "cell_type": "code",
      "execution_count": 2,
      "metadata": {
        "id": "0Bv0VQqWCEF8"
      },
      "outputs": [],
      "source": [
        "# この部分は修正しないでください\n",
        "import numpy as np\n",
        "import pandas as pd\n",
        "\n",
        "NUM_EXAMPLE_QUESTIONS = 1\n",
        "example = np.zeros(NUM_EXAMPLE_QUESTIONS,int)\n",
        "\n",
        "NUM_QUESTIONS = 5\n",
        "myanswer = np.zeros(NUM_QUESTIONS,int)"
      ]
    },
    {
      "cell_type": "markdown",
      "metadata": {
        "id": "BsfoAlk8CNGt"
      },
      "source": [
        "### 回答方法\n",
        "各$\\fbox{　(　)　}$に当てはまるものとして最も適切なものを1つずつ選んでください。\n",
        "\n",
        "**例題**\n",
        "\n",
        "「PhysicalAI 知能ロボティクス」の講義では$\\fbox{　(0)　}$を扱うための数学理論と実践からエンジニアリングまで体系立てて学ぶことができる。\n",
        "\n",
        "1. 言語モデル\n",
        "2. 生成モデル\n",
        "3. ロボット\n",
        "4. ビジネスモデル\n",
        "\n",
        "正しい回答を「ロボット」とすると、以下のように0番目に3を数字で回答します．"
      ]
    },
    {
      "cell_type": "markdown",
      "metadata": {
        "id": "tnPOk5rGCRFH"
      },
      "source": [
        "```python\n",
        "example[0] = 3\n",
        "\n",
        "```"
      ]
    },
    {
      "cell_type": "markdown",
      "metadata": {
        "id": "_C3J9OjxCUCG"
      },
      "source": [
        "### 確認クイズ\n",
        "\n",
        "\n",
        "**Q1 Dockerを使って開発環境を構築するメリットとして、最も適切なものはどれですか？**\n",
        "\n",
        "1. コンテナを作成する際には、その都度Dockerfileからイメージをビルドを行う  \n",
        "2. コンテナは一度起動すると削除できないため、安全性が高い  \n",
        "3. DockerはGPUをエミュレーションできるため、物理GPUが不要になる  \n",
        "4. Dockerを使うことで、異なるマシン上でも同じ環境を再現できる  \n",
        "5. Dockerコンテナは一度起動すると内容を変更できないため、セキュリティが高い\n",
        "\n",
        "回答: $\\fbox{(0)}$\n",
        "\n",
        "---\n",
        "\n",
        "**Q2 継続的インテグレーション（CI）をGitHub Actionsなどで導入する主な目的として、最も適切なものはどれですか？**\n",
        "\n",
        "1. コード変更時にテストを自動実行し、品質を維持するため  \n",
        "2. ブランチの作成を自動化し、効率的に開発を進めるため  \n",
        "3. リポジトリの変更履歴を管理するため  \n",
        "4. GitHub上でコードを暗号化して安全に保存するため  \n",
        "5. Dockerイメージを自動的にデプロイするため  \n",
        "\n",
        "回答: $\\fbox{(1)}$\n",
        "\n",
        "---\n",
        "\n",
        "\n",
        "**Q3 これらのファイルの中で、DVCで管理するのが最も適切だと考えられるものを選んでください。***\n",
        "\n",
        "1. `train_model.py`（学習用スクリプト）  \n",
        "2. `README.md`（プロジェクトの説明ファイル）  \n",
        "3. `requirements.txt`（依存ライブラリ一覧）  \n",
        "4. `mnist_mlp_model.pt`（学習済みモデルの重みファイル）  \n",
        "5. `mnist_mlp_model.pt.dvc`（重みファイルのメタデータファイル）\n",
        "\n",
        "回答: $\\fbox{(2)}$\n",
        "\n",
        "\n",
        "---\n",
        "\n",
        "**Q4 CLIPの説明として最も適切なものはどれですか？**\n",
        "\n",
        "1. テキストからロボットの制御命令を直接生成するためのモデルである  \n",
        "2. 画像とテキストを同じ埋め込み空間で表現し、類似度を比較できるモデルである  \n",
        "3. 画像認識タスク専用に設計された純粋なCNNモデルである  \n",
        "4. 音声認識と翻訳を同時に行うためのマルチタスクモデルである  \n",
        "5. 強化学習タスクにおけるエージェントの行動ポリシーを最適化するモデルである  \n",
        "\n",
        "回答: $\\fbox{(3)}$\n",
        "\n",
        "---\n",
        "\n",
        "**Q5 ロボット開発においてシミュレータを使う主な利点として、最も適切なものはどれですか？**\n",
        "  \n",
        "1. 実際のロボットセンサの性能を物理的に向上させるため  \n",
        "2. ロボットのハードウェアコストを完全にゼロにするため\n",
        "3. 実機を使わずに安全にテストを繰り返し実施できるため\n",
        "4. 強化学習の報酬関数を自動的に最適化するため  \n",
        "5. センサーの故障を防ぐためにリアルタイムエラー検出を行うため  \n",
        "\n",
        "回答: $\\fbox{(4)}$\n",
        "\n",
        "\n",
        "\n",
        "\n"
      ]
    },
    {
      "cell_type": "code",
      "execution_count": 3,
      "metadata": {
        "id": "8cqW9LaPCUcb"
      },
      "outputs": [],
      "source": [
        "myanswer[0] = 4\n",
        "myanswer[1] = 1\n",
        "myanswer[2] = 4\n",
        "myanswer[3] = 2\n",
        "myanswer[4] = 3"
      ]
    },
    {
      "cell_type": "code",
      "execution_count": 6,
      "metadata": {
        "id": "L3kFee09CeJM"
      },
      "outputs": [],
      "source": [
        "# omnicampusへ提出するcsvファイルが作成されます。\n",
        "if not np.any(myanswer==0):\n",
        "    submission = pd.Series(myanswer, name='label')\n",
        "    submission.to_csv('/content/submission_pred.csv', header=True, index_label='id')\n",
        "else:\n",
        "    print('Error: please answer all of the questions')"
      ]
    },
    {
      "cell_type": "code",
      "source": [],
      "metadata": {
        "id": "dsM195ehK1c3"
      },
      "execution_count": null,
      "outputs": []
    }
  ],
  "metadata": {
    "colab": {
      "provenance": [],
      "include_colab_link": true
    },
    "kernelspec": {
      "display_name": "Python 3",
      "name": "python3"
    },
    "language_info": {
      "name": "python"
    }
  },
  "nbformat": 4,
  "nbformat_minor": 0
}